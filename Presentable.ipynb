{
 "cells": [
  {
   "cell_type": "markdown",
   "id": "0fc797fd-cb72-4baf-aa7f-8e5498ebb229",
   "metadata": {},
   "source": [
    "#### TOC\n",
    "[0. Import Libraries](#0.-Import-Libraries)\n",
    "\n",
    "[1. Import Data](#1.-Import-Data)\n",
    "\n",
    "[2. Data Exploration](#2.-Data-Exploration)\n",
    "\n",
    "[3. Data Cleaning](#3.-Data-Cleaning)\n",
    "\n",
    "[4. Data Preparation](#4.-Data-Preparation)\n",
    "\n",
    "[5. Benchmark Model](#5.-Benchmark-Model)\n",
    "\n",
    "[6. Feature Engineering](#6.-Feature-Engineering)\n",
    "\n",
    "[7. Model Training](#7.-Model-Training)\n",
    "\n",
    "[8. Tuning](#8.-Tuning)\n",
    "\n",
    "[9. Conclusion](#9.-Conclusion)"
   ]
  },
  {
   "cell_type": "markdown",
   "id": "3b6422b0-b49c-4d4b-a486-6bc52f42dacf",
   "metadata": {},
   "source": [
    "# 0. Import Libraries\n",
    "\n",
    "In order to read parquet format, must install pyarrow, no import is required.\n",
    "\n",
    "[Back to Top](#TOC)"
   ]
  },
  {
   "cell_type": "code",
   "execution_count": 3,
   "id": "2f0fd438-0e69-4aa8-8045-6f88e6c2624f",
   "metadata": {},
   "outputs": [],
   "source": [
    "import pandas as pd"
   ]
  },
  {
   "cell_type": "markdown",
   "id": "12cd64d9-cb7d-4c48-a6fd-038473d5a808",
   "metadata": {},
   "source": [
    "# 1. Import Data\n",
    "From [New York City Taxi and Limousine Commission](https://www.nyc.gov/site/tlc/about/tlc-trip-record-data.page)\n",
    "\n",
    "[Back to Top](#TOC)"
   ]
  },
  {
   "cell_type": "code",
   "execution_count": 6,
   "id": "4b74713b-d9eb-4011-bbfb-0804363d2247",
   "metadata": {},
   "outputs": [],
   "source": [
    "taxi_df = pd.read_parquet('data/yellow_tripdata_2024-01.parquet')"
   ]
  },
  {
   "cell_type": "code",
   "execution_count": 7,
   "id": "1f875b0a-0313-4f21-b6d8-792313a013e6",
   "metadata": {},
   "outputs": [
    {
     "data": {
      "text/html": [
       "<div>\n",
       "<style scoped>\n",
       "    .dataframe tbody tr th:only-of-type {\n",
       "        vertical-align: middle;\n",
       "    }\n",
       "\n",
       "    .dataframe tbody tr th {\n",
       "        vertical-align: top;\n",
       "    }\n",
       "\n",
       "    .dataframe thead th {\n",
       "        text-align: right;\n",
       "    }\n",
       "</style>\n",
       "<table border=\"1\" class=\"dataframe\">\n",
       "  <thead>\n",
       "    <tr style=\"text-align: right;\">\n",
       "      <th></th>\n",
       "      <th>VendorID</th>\n",
       "      <th>tpep_pickup_datetime</th>\n",
       "      <th>tpep_dropoff_datetime</th>\n",
       "      <th>passenger_count</th>\n",
       "      <th>trip_distance</th>\n",
       "      <th>RatecodeID</th>\n",
       "      <th>store_and_fwd_flag</th>\n",
       "      <th>PULocationID</th>\n",
       "      <th>DOLocationID</th>\n",
       "      <th>payment_type</th>\n",
       "      <th>fare_amount</th>\n",
       "      <th>extra</th>\n",
       "      <th>mta_tax</th>\n",
       "      <th>tip_amount</th>\n",
       "      <th>tolls_amount</th>\n",
       "      <th>improvement_surcharge</th>\n",
       "      <th>total_amount</th>\n",
       "      <th>congestion_surcharge</th>\n",
       "      <th>Airport_fee</th>\n",
       "    </tr>\n",
       "  </thead>\n",
       "  <tbody>\n",
       "    <tr>\n",
       "      <th>0</th>\n",
       "      <td>2</td>\n",
       "      <td>2024-01-01 00:57:55</td>\n",
       "      <td>2024-01-01 01:17:43</td>\n",
       "      <td>1.0</td>\n",
       "      <td>1.72</td>\n",
       "      <td>1.0</td>\n",
       "      <td>N</td>\n",
       "      <td>186</td>\n",
       "      <td>79</td>\n",
       "      <td>2</td>\n",
       "      <td>17.7</td>\n",
       "      <td>1.0</td>\n",
       "      <td>0.5</td>\n",
       "      <td>0.00</td>\n",
       "      <td>0.0</td>\n",
       "      <td>1.0</td>\n",
       "      <td>22.70</td>\n",
       "      <td>2.5</td>\n",
       "      <td>0.0</td>\n",
       "    </tr>\n",
       "    <tr>\n",
       "      <th>1</th>\n",
       "      <td>1</td>\n",
       "      <td>2024-01-01 00:03:00</td>\n",
       "      <td>2024-01-01 00:09:36</td>\n",
       "      <td>1.0</td>\n",
       "      <td>1.80</td>\n",
       "      <td>1.0</td>\n",
       "      <td>N</td>\n",
       "      <td>140</td>\n",
       "      <td>236</td>\n",
       "      <td>1</td>\n",
       "      <td>10.0</td>\n",
       "      <td>3.5</td>\n",
       "      <td>0.5</td>\n",
       "      <td>3.75</td>\n",
       "      <td>0.0</td>\n",
       "      <td>1.0</td>\n",
       "      <td>18.75</td>\n",
       "      <td>2.5</td>\n",
       "      <td>0.0</td>\n",
       "    </tr>\n",
       "    <tr>\n",
       "      <th>2</th>\n",
       "      <td>1</td>\n",
       "      <td>2024-01-01 00:17:06</td>\n",
       "      <td>2024-01-01 00:35:01</td>\n",
       "      <td>1.0</td>\n",
       "      <td>4.70</td>\n",
       "      <td>1.0</td>\n",
       "      <td>N</td>\n",
       "      <td>236</td>\n",
       "      <td>79</td>\n",
       "      <td>1</td>\n",
       "      <td>23.3</td>\n",
       "      <td>3.5</td>\n",
       "      <td>0.5</td>\n",
       "      <td>3.00</td>\n",
       "      <td>0.0</td>\n",
       "      <td>1.0</td>\n",
       "      <td>31.30</td>\n",
       "      <td>2.5</td>\n",
       "      <td>0.0</td>\n",
       "    </tr>\n",
       "    <tr>\n",
       "      <th>3</th>\n",
       "      <td>1</td>\n",
       "      <td>2024-01-01 00:36:38</td>\n",
       "      <td>2024-01-01 00:44:56</td>\n",
       "      <td>1.0</td>\n",
       "      <td>1.40</td>\n",
       "      <td>1.0</td>\n",
       "      <td>N</td>\n",
       "      <td>79</td>\n",
       "      <td>211</td>\n",
       "      <td>1</td>\n",
       "      <td>10.0</td>\n",
       "      <td>3.5</td>\n",
       "      <td>0.5</td>\n",
       "      <td>2.00</td>\n",
       "      <td>0.0</td>\n",
       "      <td>1.0</td>\n",
       "      <td>17.00</td>\n",
       "      <td>2.5</td>\n",
       "      <td>0.0</td>\n",
       "    </tr>\n",
       "    <tr>\n",
       "      <th>4</th>\n",
       "      <td>1</td>\n",
       "      <td>2024-01-01 00:46:51</td>\n",
       "      <td>2024-01-01 00:52:57</td>\n",
       "      <td>1.0</td>\n",
       "      <td>0.80</td>\n",
       "      <td>1.0</td>\n",
       "      <td>N</td>\n",
       "      <td>211</td>\n",
       "      <td>148</td>\n",
       "      <td>1</td>\n",
       "      <td>7.9</td>\n",
       "      <td>3.5</td>\n",
       "      <td>0.5</td>\n",
       "      <td>3.20</td>\n",
       "      <td>0.0</td>\n",
       "      <td>1.0</td>\n",
       "      <td>16.10</td>\n",
       "      <td>2.5</td>\n",
       "      <td>0.0</td>\n",
       "    </tr>\n",
       "  </tbody>\n",
       "</table>\n",
       "</div>"
      ],
      "text/plain": [
       "   VendorID tpep_pickup_datetime tpep_dropoff_datetime  passenger_count  \\\n",
       "0         2  2024-01-01 00:57:55   2024-01-01 01:17:43              1.0   \n",
       "1         1  2024-01-01 00:03:00   2024-01-01 00:09:36              1.0   \n",
       "2         1  2024-01-01 00:17:06   2024-01-01 00:35:01              1.0   \n",
       "3         1  2024-01-01 00:36:38   2024-01-01 00:44:56              1.0   \n",
       "4         1  2024-01-01 00:46:51   2024-01-01 00:52:57              1.0   \n",
       "\n",
       "   trip_distance  RatecodeID store_and_fwd_flag  PULocationID  DOLocationID  \\\n",
       "0           1.72         1.0                  N           186            79   \n",
       "1           1.80         1.0                  N           140           236   \n",
       "2           4.70         1.0                  N           236            79   \n",
       "3           1.40         1.0                  N            79           211   \n",
       "4           0.80         1.0                  N           211           148   \n",
       "\n",
       "   payment_type  fare_amount  extra  mta_tax  tip_amount  tolls_amount  \\\n",
       "0             2         17.7    1.0      0.5        0.00           0.0   \n",
       "1             1         10.0    3.5      0.5        3.75           0.0   \n",
       "2             1         23.3    3.5      0.5        3.00           0.0   \n",
       "3             1         10.0    3.5      0.5        2.00           0.0   \n",
       "4             1          7.9    3.5      0.5        3.20           0.0   \n",
       "\n",
       "   improvement_surcharge  total_amount  congestion_surcharge  Airport_fee  \n",
       "0                    1.0         22.70                   2.5          0.0  \n",
       "1                    1.0         18.75                   2.5          0.0  \n",
       "2                    1.0         31.30                   2.5          0.0  \n",
       "3                    1.0         17.00                   2.5          0.0  \n",
       "4                    1.0         16.10                   2.5          0.0  "
      ]
     },
     "execution_count": 7,
     "metadata": {},
     "output_type": "execute_result"
    }
   ],
   "source": [
    "taxi_df.head()"
   ]
  },
  {
   "cell_type": "code",
   "execution_count": 9,
   "id": "cf3d5686-1d8a-4b5d-b79d-8e9cf81d9845",
   "metadata": {},
   "outputs": [
    {
     "data": {
      "text/plain": [
       "(2964624, 19)"
      ]
     },
     "execution_count": 9,
     "metadata": {},
     "output_type": "execute_result"
    }
   ],
   "source": [
    "taxi_df.shape"
   ]
  },
  {
   "cell_type": "markdown",
   "id": "ee426070-28e2-4981-8df2-6b849932107d",
   "metadata": {},
   "source": [
    "# 2. Data Exploration\n",
    "\n",
    "[Back to Top](#TOC)"
   ]
  },
  {
   "cell_type": "markdown",
   "id": "513b75fc-981f-489c-908d-1ca324b4efb0",
   "metadata": {},
   "source": [
    "# 3. Data Cleaning\n",
    "\n",
    "[Back to Top](#TOC)"
   ]
  },
  {
   "cell_type": "markdown",
   "id": "7ebe80db-3f33-4019-a02d-b1f60f34cc4f",
   "metadata": {},
   "source": [
    "# 4. Data Preparation\n",
    "\n",
    "[Back to Top](#TOC)"
   ]
  },
  {
   "cell_type": "markdown",
   "id": "5800e2fc-0375-4ac8-b045-29763ac2e50b",
   "metadata": {},
   "source": [
    "# 5. Benchmark Model\n",
    "\n",
    "[Back to Top](#TOC)"
   ]
  },
  {
   "cell_type": "markdown",
   "id": "e017ace4-6321-4431-bdf0-8584e96027a5",
   "metadata": {},
   "source": [
    "# 6. Feature Engineering\n",
    "\n",
    "[Back to Top](#TOC)"
   ]
  },
  {
   "cell_type": "markdown",
   "id": "be250a1c-a9d7-40e4-a313-734a902dd9a8",
   "metadata": {},
   "source": [
    "# 7. Model Training\n",
    "\n",
    "[Back to Top](#TOC)"
   ]
  },
  {
   "cell_type": "markdown",
   "id": "dfb73180-b187-49cf-b757-bcecfa9075f7",
   "metadata": {},
   "source": [
    "# 8. Tuning\n",
    "\n",
    "[Back to Top](#TOC)"
   ]
  },
  {
   "cell_type": "markdown",
   "id": "c9b3daf8-a77c-4216-bc5e-2c551e3c427d",
   "metadata": {},
   "source": [
    "# 9. Conclusion\n",
    "\n",
    "[Back to Top](#TOC)"
   ]
  },
  {
   "cell_type": "code",
   "execution_count": null,
   "id": "cae63e06-f025-4f33-ba2c-cae996e3e69b",
   "metadata": {},
   "outputs": [],
   "source": []
  }
 ],
 "metadata": {
  "kernelspec": {
   "display_name": "Python 3 (ipykernel)",
   "language": "python",
   "name": "python3"
  },
  "language_info": {
   "codemirror_mode": {
    "name": "ipython",
    "version": 3
   },
   "file_extension": ".py",
   "mimetype": "text/x-python",
   "name": "python",
   "nbconvert_exporter": "python",
   "pygments_lexer": "ipython3",
   "version": "3.12.6"
  }
 },
 "nbformat": 4,
 "nbformat_minor": 5
}
